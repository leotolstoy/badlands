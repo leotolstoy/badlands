{
 "cells": [
  {
   "cell_type": "code",
   "execution_count": null,
   "metadata": {},
   "outputs": [],
   "source": [
    "class timeModel:\n",
    "    def __init__(self, params):\n",
    "        self.params = params\n",
    "\n",
    "    def evalModelAtTime(time):\n",
    "        # encode the population change using a numerical curve\n",
    "        return -1\n",
    "\n",
    "    def evalModelRateAtTime(time):\n",
    "        return -1"
   ]
  }
 ],
 "metadata": {
  "kernelspec": {
   "display_name": "Python 3",
   "language": "python",
   "name": "python3"
  },
  "language_info": {
   "codemirror_mode": {
    "name": "ipython",
    "version": 3
   },
   "file_extension": ".py",
   "mimetype": "text/x-python",
   "name": "python",
   "nbconvert_exporter": "python",
   "pygments_lexer": "ipython3",
   "version": "3.7.3"
  }
 },
 "nbformat": 4,
 "nbformat_minor": 4
}
