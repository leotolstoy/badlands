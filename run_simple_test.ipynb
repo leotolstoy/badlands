{
 "cells": [
  {
   "cell_type": "code",
   "execution_count": null,
   "metadata": {},
   "outputs": [],
   "source": [
    "import numpy as np \n",
    "from demographics import DemographicsModel\n",
    "from city import CityModel\n",
    "from bayesianModel import BayesianModel\n",
    "from state import State"
   ]
  },
  {
   "cell_type": "code",
   "execution_count": null,
   "metadata": {},
   "outputs": [],
   "source": [
    "if __name__ == '__main__':\n",
    "    \n",
    "    np.random.seed(7000)\n",
    "    N = 1000\n",
    "    MAX_YEARS = 100\n",
    "    \n",
    "    #Alaska model paths\n",
    "    p1 = 'path1'\n",
    "    p2 = 'path2'\n",
    "    p3 = 'path3'\n",
    "    p4 = 'path4'\n",
    "    \n",
    "    alaska = State(p1,p2,p3,p4)\n",
    "    \n",
    "#     Define how many college ed people are coming in , for now a constant amount per year\n",
    "    population_edu_import = 50000\n",
    "    \n",
    "    for n in range(N):\n",
    "        #             Generate new time models for state\n",
    "        alaska.resampleDemographicsModel('overall')\n",
    "        \n",
    "        for year in range (MAX_YEARS):\n",
    "            alaska.evaluateDemoModelAtTime(year, 'overall')\n",
    "            \n",
    "            alaska_voteMargin = alaska.getVoteMargin():\n",
    "            \n",
    "            \n",
    "            if alaska_voteMargin > 0:\n",
    "                alaska.yearToFlip.append(year)\n",
    "                break\n",
    "                \n",
    "            alaska.import(population_edu_import)\n",
    "            \n",
    "            \n",
    "    alaska_yearsToFlip = np.array(alaska.yearsToFlip)\n",
    "    \n",
    "    plt.figure()\n",
    "#     plt.subplot(223)\n",
    "    plt.hist(alaska_yearsToFlip.reshape((-1,)), bins=10)\n",
    "    plt.title('Alaska years to Flip')\n",
    "    plt.xlabel(\"Years to Flip\")\n",
    "\n",
    "            \n",
    "            \n",
    "        \n",
    "    \n",
    "    \n",
    "    \n",
    "    \n",
    "    \n",
    "    \n",
    "    \n",
    "    \n",
    "    \n",
    "    \n",
    "    \n",
    "    \n",
    "    \n",
    "    \n",
    "    "
   ]
  }
 ],
 "metadata": {
  "kernelspec": {
   "display_name": "Python 3",
   "language": "python",
   "name": "python3"
  },
  "language_info": {
   "codemirror_mode": {
    "name": "ipython",
    "version": 3
   },
   "file_extension": ".py",
   "mimetype": "text/x-python",
   "name": "python",
   "nbconvert_exporter": "python",
   "pygments_lexer": "ipython3",
   "version": "3.7.7"
  }
 },
 "nbformat": 4,
 "nbformat_minor": 4
}
