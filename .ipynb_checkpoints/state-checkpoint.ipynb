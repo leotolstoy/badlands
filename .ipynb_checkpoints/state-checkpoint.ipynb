{
 "cells": [
  {
   "cell_type": "code",
   "execution_count": 1,
   "metadata": {},
   "outputs": [],
   "source": [
    "import numpy as np \n",
    "from demographics import DemographicsModel\n",
    "from city import CityModel\n",
    "from bayesianModel import BayesianModel"
   ]
  },
  {
   "cell_type": "code",
   "execution_count": null,
   "metadata": {},
   "outputs": [],
   "source": [
    "class State():\n",
    "\tdef __init__(self,p1,p2,p3,p4):\n",
    "\n",
    "\t\t# TODO: make turnout model it's own bi-mean thing\n",
    "\t\t# TODO: make reg voter model, vote margin model, and population model polynomial/logistic/1st order, have them inherit from BayesianModel\n",
    "\n",
    "\t\tself.overallPopulationModel = BayesianModel(p1)\n",
    "\t\tself.overallTurnoutModel = BayesianModel(p2)\n",
    "\t\tself.overallRegVoterModel = BayesianModel(p3)\n",
    "\t\tself.overallVoteMarginModel = BayesianModel(p4)\n",
    "\n",
    "\t\t# self.major_cities = [CityModel()]\n",
    "\t\tself.demographics = dict([\\\n",
    "\t\t\t('college_ed',DemographicsModel(self.overallPopulationModel, self.overallTurnoutModel, self.overallRegVoterModel, self.overallVoteMarginModel)),\\\n",
    "\t\t\t('overall',DemographicsModel(self.overallPopulationModel, self.overallTurnoutModel, self.overallRegVoterModel, self.overallVoteMarginModel)),\\\n",
    "\t\t\t])  \n",
    "\n",
    "\t\t\n",
    "        self.evaluateDemoModelAtTime(0,'overall')\n",
    "\t\tself.yearToFlip = []\n",
    "        self.vote_margins = []\n",
    "        \n",
    "        \n",
    "        def evaluateDemoModelAtTime(self, time, key):\n",
    "            self.totalPopulation = self.demographics[key].populationTimeModel.evalModelAtTime(time)\n",
    "            self.overallVoteMargin = self.demographics[key].voteMarginTimeModel.evalModelAtTime(time)\n",
    "            self.overallRegVoter = self.demographics[key].regVoterTimeModel.evalModelAtTime(time)\n",
    "            self.overallTurnout = self.demographics[key].turnoutTimeModel.evalModelAtTime(time)\n",
    "\n",
    "            self.totalVotes = self.overallTurnout * self.overallRegVoter\n",
    "            self.frac_overall_dem = 0.5 + self.overallVoteMargin/2\n",
    "            self.frac_overall_rep = 0.5 - self.overallVoteMargin/2\n",
    "\n",
    "            self.overall_dem_votes = self.frac_overall_dem * self.totalVotes\n",
    "            self.overall_rep_votes = self.frac_overall_rep * self.totalVotes\n",
    "            \n",
    "\n",
    "\t\tdef resampleDemographicsModel(self, key):\n",
    "\t\t\tself.demographics[key].sampleModel()\n",
    "            \n",
    "            \n",
    "        def getVoteMargin(self,):\n",
    "            self.vote_margins.append(self.overall_dem_votes - self.overall_rep_votes)\n",
    "            return self.overall_dem_votes - self.overall_rep_votes\n",
    "        \n",
    "        def importPopulation(self,population):\n",
    "            self.totalPopulation += population"
   ]
  }
 ],
 "metadata": {
  "kernelspec": {
   "display_name": "Python 3",
   "language": "python",
   "name": "python3"
  },
  "language_info": {
   "codemirror_mode": {
    "name": "ipython",
    "version": 3
   },
   "file_extension": ".py",
   "mimetype": "text/x-python",
   "name": "python",
   "nbconvert_exporter": "python",
   "pygments_lexer": "ipython3",
   "version": "3.7.7"
  }
 },
 "nbformat": 4,
 "nbformat_minor": 4
}
