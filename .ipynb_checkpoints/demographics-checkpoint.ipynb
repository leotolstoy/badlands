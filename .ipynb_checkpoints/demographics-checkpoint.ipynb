{
 "cells": [
  {
   "cell_type": "code",
   "execution_count": null,
   "metadata": {},
   "outputs": [],
   "source": [
    "from timeModel import timeModel\n",
    "from bayesianModel import BayesianModel"
   ]
  },
  {
   "cell_type": "code",
   "execution_count": null,
   "metadata": {},
   "outputs": [],
   "source": [
    "class DemographicsModel():\n",
    "\n",
    "\tdef __init__(self,populationModel, turnoutModel, regVoterModel, voteMarginModel):\n",
    "\t\tself.populationModel = populationModel\n",
    "\t\tself.turnoutModel = turnoutModel\n",
    "\t\tself.regVoterModel = regVoterModel\n",
    "\t\tself.voteMarginModel = voteMarginModel\n",
    "\n",
    "\t\tself.sampleModel()\n",
    "\n",
    "\n",
    "\tdef sampleModel(self,):\n",
    "#         TODO: properly input the (Bayesian) population model samples into the time Model\n",
    "#         Time model can be a time varying logistic/polynomial/lookupTable\n",
    "\t\tself.populationTimeModel = timeModel(self.populationModel.sample())\n",
    "\t\tself.turnoutTimeModel = timeModel(self.turnoutModel.sample())\n",
    "\t\tself.regVoterTimeModel = timeModel(self.regVoterModel.sample())\n",
    "\t\tself.voteMarginTimeModel = timeModel(self.voteMarginModel.sample())"
   ]
  }
 ],
 "metadata": {
  "kernelspec": {
   "display_name": "Python 3",
   "language": "python",
   "name": "python3"
  },
  "language_info": {
   "codemirror_mode": {
    "name": "ipython",
    "version": 3
   },
   "file_extension": ".py",
   "mimetype": "text/x-python",
   "name": "python",
   "nbconvert_exporter": "python",
   "pygments_lexer": "ipython3",
   "version": "3.7.7"
  }
 },
 "nbformat": 4,
 "nbformat_minor": 4
}
