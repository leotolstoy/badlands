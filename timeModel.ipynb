{
 "cells": [
  {
   "cell_type": "code",
   "execution_count": null,
   "metadata": {},
   "outputs": [],
   "source": [
    "class timeModel():\n",
    "\n",
    "\tdef __init__(self,params):\n",
    "\t\tself.params = params\n",
    "\n",
    "\n",
    "\tdef evalModelAtTime(time):\n",
    "\t\t# encode the population change using a numerical curve\n",
    "\t\treturn -1\n",
    "\n",
    "\tdef evalModelRateAtTime(time):\n",
    "\t\treturn -1"
   ]
  }
 ],
 "metadata": {
  "kernelspec": {
   "display_name": "Python 3",
   "language": "python",
   "name": "python3"
  },
  "language_info": {
   "codemirror_mode": {
    "name": "ipython",
    "version": 3
   },
   "file_extension": ".py",
   "mimetype": "text/x-python",
   "name": "python",
   "nbconvert_exporter": "python",
   "pygments_lexer": "ipython3",
   "version": "3.7.3"
  }
 },
 "nbformat": 4,
 "nbformat_minor": 4
}
